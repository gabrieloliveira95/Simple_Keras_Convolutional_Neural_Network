{
  "nbformat": 4,
  "nbformat_minor": 0,
  "metadata": {
    "colab": {
      "name": "simple_CNN.ipynb",
      "provenance": [],
      "collapsed_sections": []
    },
    "kernelspec": {
      "name": "python3",
      "display_name": "Python 3"
    },
    "accelerator": "GPU"
  },
  "cells": [
    {
      "cell_type": "code",
      "metadata": {
        "id": "FattayJbWfiZ"
      },
      "source": [
        "from keras.models import Sequential\r\n",
        "from keras.layers import Conv2D,MaxPool2D,Flatten,Dense\r\n",
        "import matplotlib.pyplot as plt\r\n",
        "from tensorflow.keras.datasets import cifar10\r\n",
        "%matplotlib inline"
      ],
      "execution_count": 1,
      "outputs": []
    },
    {
      "cell_type": "markdown",
      "metadata": {
        "id": "9s71TbqZXGWo"
      },
      "source": [
        "# Pre-Processing"
      ]
    },
    {
      "cell_type": "markdown",
      "metadata": {
        "id": "KXsO_giGXJiZ"
      },
      "source": [
        "## Load Cifar Database"
      ]
    },
    {
      "cell_type": "markdown",
      "metadata": {
        "id": "rz8-Rqh9XXBK"
      },
      "source": [
        "https://www.cs.toronto.edu/~kriz/cifar.html"
      ]
    },
    {
      "cell_type": "markdown",
      "metadata": {
        "id": "CQRMIND3Xy2i"
      },
      "source": [
        "The CIFAR-10 dataset consists of 60000 32x32 colour images in 10 classes, with 6000 images per class.\r\n",
        "\r\n",
        "There are 50000 training images and 10000 test images.\r\n",
        "\r\n",
        "32 x 32 = 1024 x 3 = 3072\r\n",
        "\r\n",
        "3072 input pixels"
      ]
    },
    {
      "cell_type": "markdown",
      "metadata": {
        "id": "2WvSM7fJXNOT"
      },
      "source": [
        "### Class Names"
      ]
    },
    {
      "cell_type": "code",
      "metadata": {
        "id": "66Dp7vJVXFAQ"
      },
      "source": [
        "class_names = ['airplane','automobile','bird','cat','deer','dog','frog','horse','ship','truck']"
      ],
      "execution_count": 2,
      "outputs": []
    },
    {
      "cell_type": "code",
      "metadata": {
        "id": "tERWo9keYE6i"
      },
      "source": [
        "(x_train,y_train), (x_test,y_test) = cifar10.load_data()"
      ],
      "execution_count": 3,
      "outputs": []
    },
    {
      "cell_type": "markdown",
      "metadata": {
        "id": "ADdKY6yNYRCz"
      },
      "source": [
        "### Normalize Images"
      ]
    },
    {
      "cell_type": "code",
      "metadata": {
        "colab": {
          "base_uri": "https://localhost:8080/"
        },
        "id": "MQ7UpDxbYk6F",
        "outputId": "b1cc40a7-56bb-430f-b45b-588368f221e4"
      },
      "source": [
        "x_train.shape"
      ],
      "execution_count": 4,
      "outputs": [
        {
          "output_type": "execute_result",
          "data": {
            "text/plain": [
              "(50000, 32, 32, 3)"
            ]
          },
          "metadata": {
            "tags": []
          },
          "execution_count": 4
        }
      ]
    },
    {
      "cell_type": "code",
      "metadata": {
        "id": "5SR9bbDtYLV3"
      },
      "source": [
        "x_train = x_train / 255.0  # Values Between 0 and 1\r\n",
        "x_test = x_test / 255.0"
      ],
      "execution_count": 5,
      "outputs": []
    },
    {
      "cell_type": "code",
      "metadata": {
        "colab": {
          "base_uri": "https://localhost:8080/"
        },
        "id": "RmZQCpZ2YaLD",
        "outputId": "94a75765-ccec-4949-8da6-46eb38372650"
      },
      "source": [
        "x_train.shape"
      ],
      "execution_count": 6,
      "outputs": [
        {
          "output_type": "execute_result",
          "data": {
            "text/plain": [
              "(50000, 32, 32, 3)"
            ]
          },
          "metadata": {
            "tags": []
          },
          "execution_count": 6
        }
      ]
    },
    {
      "cell_type": "code",
      "metadata": {
        "colab": {
          "base_uri": "https://localhost:8080/",
          "height": 283
        },
        "id": "Xcp8Toc5YcRE",
        "outputId": "58cd10c7-fd87-451b-adfd-e17857ecc96d"
      },
      "source": [
        "plt.imshow(x_test[10])"
      ],
      "execution_count": 7,
      "outputs": [
        {
          "output_type": "execute_result",
          "data": {
            "text/plain": [
              "<matplotlib.image.AxesImage at 0x7f323038a9b0>"
            ]
          },
          "metadata": {
            "tags": []
          },
          "execution_count": 7
        },
        {
          "output_type": "display_data",
          "data": {
            "image/png": "[encoded data removed]",
            "text/plain": [
              "<Figure size 432x288 with 1 Axes>"
            ]
          },
          "metadata": {
            "tags": [],
            "needs_background": "light"
          }
        }
      ]
    },
    {
      "cell_type": "markdown",
      "metadata": {
        "id": "-XGyMUs8ZPTu"
      },
      "source": [
        "# Building Convolutional Neural Network"
      ]
    },
    {
      "cell_type": "markdown",
      "metadata": {
        "id": "mk1MvfAhe0GZ"
      },
      "source": [
        "![](https://discuss.pytorch.org/uploads/default/original/3X/2/0/203b91f1109ebb8d98c9fa715e979336ee26821f.jpeg)"
      ]
    },
    {
      "cell_type": "code",
      "metadata": {
        "id": "YOMQpffMY0q8"
      },
      "source": [
        "model = Sequential()"
      ],
      "execution_count": 8,
      "outputs": []
    },
    {
      "cell_type": "markdown",
      "metadata": {
        "id": "05PvVcrPZca-"
      },
      "source": [
        "## Add First Layer"
      ]
    },
    {
      "cell_type": "markdown",
      "metadata": {
        "id": "cABeeqYeZipY"
      },
      "source": [
        "### filters = 32\r\n",
        "\r\n",
        "![filters](https://indoml.files.wordpress.com/2018/03/convolution-with-multiple-filters2.png)\r\n",
        "\r\n",
        "### kernel_size = 3 \r\n",
        "\r\n",
        "### Filter Matriz 3x3\r\n",
        "\r\n",
        "$$\\begin{bmatrix} 0 & 0 & 0 \\\\ 1 & 1 & 1 \\\\ -1 & -1 & -1 \\end{bmatrix}$$\r\n",
        "\r\n",
        "\r\n",
        "\r\n",
        "## Padding = same\r\n",
        "\r\n",
        "![padding](http://media5.datahacker.rs/2018/11/sl_1.png)\r\n",
        "\r\n",
        "### activation function = relu\r\n",
        "\r\n",
        "![relu](https://miro.medium.com/max/700/1*DfMRHwxY1gyyDmrIAd-gjQ.png)\r\n",
        "\r\n",
        "### input_shape = (32,32,3) Width x Height x Filters"
      ]
    },
    {
      "cell_type": "code",
      "metadata": {
        "id": "JS4_u-ZNFJ84"
      },
      "source": [
        "model.add(Conv2D(filters=32,kernel_size=3,padding='same',activation='relu',input_shape=[32,32,3]))"
      ],
      "execution_count": 9,
      "outputs": []
    },
    {
      "cell_type": "markdown",
      "metadata": {
        "id": "i5s2pMUyahNW"
      },
      "source": [
        "## Add Second Layer\r\n"
      ]
    },
    {
      "cell_type": "markdown",
      "metadata": {
        "id": "2D_TasMdfGl8"
      },
      "source": [
        "### Convolution"
      ]
    },
    {
      "cell_type": "code",
      "metadata": {
        "id": "ckXpYjwWadmt"
      },
      "source": [
        "model.add(Conv2D(filters=32,kernel_size=3,padding='same',activation='relu'))"
      ],
      "execution_count": 10,
      "outputs": []
    },
    {
      "cell_type": "markdown",
      "metadata": {
        "id": "Fvc4FdQIfI-b"
      },
      "source": [
        "Max Pooling"
      ]
    },
    {
      "cell_type": "code",
      "metadata": {
        "id": "UuqfnBBld9Qc"
      },
      "source": [
        "model.add(MaxPool2D(pool_size=2,strides=2,padding='valid',))"
      ],
      "execution_count": 11,
      "outputs": []
    },
    {
      "cell_type": "markdown",
      "metadata": {
        "id": "QthP3ZIyd-Ut"
      },
      "source": [
        "## Add Third Layer"
      ]
    },
    {
      "cell_type": "markdown",
      "metadata": {
        "id": "uwqwlnqbfNBD"
      },
      "source": [
        "filters = 64\r\n",
        "\r\n",
        "kernel_size = 3\r\n",
        "\r\n",
        "padding = same\r\n",
        "\r\n",
        "activation = relu"
      ]
    },
    {
      "cell_type": "code",
      "metadata": {
        "id": "MNWaTP5dekH0"
      },
      "source": [
        "model.add(Conv2D(filters=64,kernel_size=3,padding='same',activation='relu'))"
      ],
      "execution_count": 12,
      "outputs": []
    },
    {
      "cell_type": "markdown",
      "metadata": {
        "id": "TI-Rqy79fefj"
      },
      "source": [
        "## Add Fourth Layer"
      ]
    },
    {
      "cell_type": "markdown",
      "metadata": {
        "id": "1BHRrJmofqUz"
      },
      "source": [
        "filters = 64\r\n",
        "\r\n",
        "kernel_size = 3\r\n",
        "\r\n",
        "padding = same\r\n",
        "\r\n",
        "activation = relu"
      ]
    },
    {
      "cell_type": "code",
      "metadata": {
        "id": "wowgg08PfcTT"
      },
      "source": [
        "  model.add(Conv2D(filters=64,kernel_size=3,padding='same',activation='relu'))"
      ],
      "execution_count": 13,
      "outputs": []
    },
    {
      "cell_type": "markdown",
      "metadata": {
        "id": "pAQ49CEZfxuE"
      },
      "source": [
        "Max Pooling:\r\n",
        "\r\n",
        "pool_size=2\r\n",
        "\r\n",
        "strides=2\r\n",
        "\r\n",
        "padding='valid"
      ]
    },
    {
      "cell_type": "code",
      "metadata": {
        "id": "mTsCTW3Xfr-b"
      },
      "source": [
        "model.add(MaxPool2D(pool_size=2,strides=2,padding='valid'))"
      ],
      "execution_count": 14,
      "outputs": []
    },
    {
      "cell_type": "markdown",
      "metadata": {
        "id": "DatXoKsuf9A-"
      },
      "source": [
        "## Add Flattening Layer"
      ]
    },
    {
      "cell_type": "code",
      "metadata": {
        "id": "gxxn942mfw6q"
      },
      "source": [
        "model.add(Flatten())"
      ],
      "execution_count": 15,
      "outputs": []
    },
    {
      "cell_type": "markdown",
      "metadata": {
        "id": "F6cdlbjXgSwT"
      },
      "source": [
        "# Dense Neural Network (Fully Connected)"
      ]
    },
    {
      "cell_type": "markdown",
      "metadata": {
        "id": "KtVwMYrSgu77"
      },
      "source": [
        "## First Dense Layer"
      ]
    },
    {
      "cell_type": "markdown",
      "metadata": {
        "id": "HrmnWycwgdj7"
      },
      "source": [
        "unit/neurons = 128\r\n",
        "\r\n",
        "activation function = relu"
      ]
    },
    {
      "cell_type": "code",
      "metadata": {
        "id": "NdNJ0jDZgHH8"
      },
      "source": [
        "model.add(Dense(units=128,activation='relu'))"
      ],
      "execution_count": 16,
      "outputs": []
    },
    {
      "cell_type": "markdown",
      "metadata": {
        "id": "AprHZbeAg3yd"
      },
      "source": [
        "## Output Dense Layer\r\n",
        "\r\n",
        "unit/neurons = 10 ---> 10 Classes\r\n",
        "\r\n",
        "activation function = softmax \r\n",
        "\r\n",
        "Softmax = Classification with more than 2 classes\r\n",
        "\r\n"
      ]
    },
    {
      "cell_type": "code",
      "metadata": {
        "id": "TRe0l85DgrJS"
      },
      "source": [
        "model.add(Dense(units=10,activation='softmax'))"
      ],
      "execution_count": 17,
      "outputs": []
    },
    {
      "cell_type": "code",
      "metadata": {
        "colab": {
          "base_uri": "https://localhost:8080/"
        },
        "id": "edPW-FKIhRqC",
        "outputId": "6154e18a-a7a4-4bcc-9c3a-520706f40408"
      },
      "source": [
        "model.summary()"
      ],
      "execution_count": 18,
      "outputs": [
        {
          "output_type": "stream",
          "text": [
            "Model: \"sequential\"\n",
            "_________________________________________________________________\n",
            "Layer (type)                 Output Shape              Param #   \n",
            "=================================================================\n",
            "conv2d (Conv2D)              (None, 32, 32, 32)        896       \n",
            "_________________________________________________________________\n",
            "conv2d_1 (Conv2D)            (None, 32, 32, 32)        9248      \n",
            "_________________________________________________________________\n",
            "max_pooling2d (MaxPooling2D) (None, 16, 16, 32)        0         \n",
            "_________________________________________________________________\n",
            "conv2d_2 (Conv2D)            (None, 16, 16, 64)        18496     \n",
            "_________________________________________________________________\n",
            "conv2d_3 (Conv2D)            (None, 16, 16, 64)        36928     \n",
            "_________________________________________________________________\n",
            "max_pooling2d_1 (MaxPooling2 (None, 8, 8, 64)          0         \n",
            "_________________________________________________________________\n",
            "flatten (Flatten)            (None, 4096)              0         \n",
            "_________________________________________________________________\n",
            "dense (Dense)                (None, 128)               524416    \n",
            "_________________________________________________________________\n",
            "dense_1 (Dense)              (None, 10)                1290      \n",
            "=================================================================\n",
            "Total params: 591,274\n",
            "Trainable params: 591,274\n",
            "Non-trainable params: 0\n",
            "_________________________________________________________________\n"
          ],
          "name": "stdout"
        }
      ]
    },
    {
      "cell_type": "markdown",
      "metadata": {
        "id": "ncHMzmQ8yhhd"
      },
      "source": [
        "591,274 Weights"
      ]
    },
    {
      "cell_type": "markdown",
      "metadata": {
        "id": "ADIrI4ovyrmg"
      },
      "source": [
        "## Model Compile"
      ]
    },
    {
      "cell_type": "code",
      "metadata": {
        "id": "plMXQMWFhTK6"
      },
      "source": [
        "model.compile(loss='sparse_categorical_crossentropy',optimizer='Adam',metrics=['sparse_categorical_crossentropy'])  "
      ],
      "execution_count": 19,
      "outputs": []
    },
    {
      "cell_type": "markdown",
      "metadata": {
        "id": "cTYH_uj6zVAC"
      },
      "source": [
        "## Model Train"
      ]
    },
    {
      "cell_type": "code",
      "metadata": {
        "colab": {
          "base_uri": "https://localhost:8080/"
        },
        "id": "eqJJYKw8zLYi",
        "outputId": "3e633de3-1b18-4a22-ed86-1c333282681b"
      },
      "source": [
        "model.fit(x_train,y_train,epochs=5)"
      ],
      "execution_count": 20,
      "outputs": [
        {
          "output_type": "stream",
          "text": [
            "Epoch 1/5\n",
            "1563/1563 [==============================] - 8s 4ms/step - loss: 1.6304 - sparse_categorical_crossentropy: 1.6304\n",
            "Epoch 2/5\n",
            "1563/1563 [==============================] - 6s 4ms/step - loss: 0.9473 - sparse_categorical_crossentropy: 0.9473\n",
            "Epoch 3/5\n",
            "1563/1563 [==============================] - 6s 4ms/step - loss: 0.7231 - sparse_categorical_crossentropy: 0.7231\n",
            "Epoch 4/5\n",
            "1563/1563 [==============================] - 6s 4ms/step - loss: 0.5813 - sparse_categorical_crossentropy: 0.5813\n",
            "Epoch 5/5\n",
            "1563/1563 [==============================] - 6s 4ms/step - loss: 0.4621 - sparse_categorical_crossentropy: 0.4621\n"
          ],
          "name": "stdout"
        },
        {
          "output_type": "execute_result",
          "data": {
            "text/plain": [
              "<tensorflow.python.keras.callbacks.History at 0x7f32303028d0>"
            ]
          },
          "metadata": {
            "tags": []
          },
          "execution_count": 20
        }
      ]
    },
    {
      "cell_type": "markdown",
      "metadata": {
        "id": "mfxf81fFz9dg"
      },
      "source": [
        "## Evaluate"
      ]
    },
    {
      "cell_type": "code",
      "metadata": {
        "colab": {
          "base_uri": "https://localhost:8080/"
        },
        "id": "UiudhHtPz_Cm",
        "outputId": "b9955c54-21f5-485b-8a11-31e02af6ec61"
      },
      "source": [
        "test_loss, test_accuracy = model.evaluate(x_test,y_test)"
      ],
      "execution_count": 21,
      "outputs": [
        {
          "output_type": "stream",
          "text": [
            "313/313 [==============================] - 1s 2ms/step - loss: 0.8453 - sparse_categorical_crossentropy: 0.8453\n"
          ],
          "name": "stdout"
        }
      ]
    },
    {
      "cell_type": "code",
      "metadata": {
        "colab": {
          "base_uri": "https://localhost:8080/"
        },
        "id": "YfdH-ijm0xPd",
        "outputId": "33ee412c-157f-4f9c-c241-52ea4451d072"
      },
      "source": [
        "test_loss"
      ],
      "execution_count": 22,
      "outputs": [
        {
          "output_type": "execute_result",
          "data": {
            "text/plain": [
              "0.8452528119087219"
            ]
          },
          "metadata": {
            "tags": []
          },
          "execution_count": 22
        }
      ]
    },
    {
      "cell_type": "code",
      "metadata": {
        "colab": {
          "base_uri": "https://localhost:8080/"
        },
        "id": "nFeEQ50R_BYn",
        "outputId": "f52e985e-cd0a-4850-f60c-724866896b14"
      },
      "source": [
        "model.save_weights(\"model.h5\")\r\n",
        "model.save(\"model_complete.h5\")\r\n",
        "model_json = model.to_json()\r\n",
        "with open(\"model.json\", \"w\") as json_file:\r\n",
        "    json_file.write(model_json)\r\n",
        "print(\"Saved model to disk\")"
      ],
      "execution_count": 23,
      "outputs": [
        {
          "output_type": "stream",
          "text": [
            "Saved model to disk\n"
          ],
          "name": "stdout"
        }
      ]
    },
    {
      "cell_type": "markdown",
      "metadata": {
        "id": "MWilxGlGWjPq"
      },
      "source": [
        "# Predict"
      ]
    },
    {
      "cell_type": "markdown",
      "metadata": {
        "id": "YHNDeNXSbt4L"
      },
      "source": [
        "## Download cifar images to png"
      ]
    },
    {
      "cell_type": "code",
      "metadata": {
        "id": "NKbmbtWxb2fm"
      },
      "source": [
        "from PIL import Image"
      ],
      "execution_count": 24,
      "outputs": []
    },
    {
      "cell_type": "code",
      "metadata": {
        "id": "XC8PN0Vnbw9s"
      },
      "source": [
        "(X_train, y_train), (X_test, y_test) = cifar10.load_data()\n",
        "for i in range(11):\n",
        "        im = Image.fromarray(X_test[i])\n",
        "        im.save(\"{}.png\".format(i))\n"
      ],
      "execution_count": 25,
      "outputs": []
    },
    {
      "cell_type": "code",
      "metadata": {
        "id": "w-GzfFqsyrAZ"
      },
      "source": [
        "#loading the saved model \n",
        "from keras.models import load_model \n",
        "model = load_model('/content/model_complete.h5')"
      ],
      "execution_count": 26,
      "outputs": []
    },
    {
      "cell_type": "code",
      "metadata": {
        "id": "V0yK0a7FyvSM"
      },
      "source": [
        "import numpy as np \n",
        "from keras.preprocessing import image\n",
        "# Give the link of the image here to test \n",
        "test_image1 =image.load_img('/content/6.png',target_size =(32,32))"
      ],
      "execution_count": 33,
      "outputs": []
    },
    {
      "cell_type": "code",
      "metadata": {
        "colab": {
          "base_uri": "https://localhost:8080/",
          "height": 283
        },
        "id": "1XME8WEtzRck",
        "outputId": "d4b2fd6a-8bd0-4e6c-b9cd-004e66a7512c"
      },
      "source": [
        "plt.imshow(test_image1)"
      ],
      "execution_count": 34,
      "outputs": [
        {
          "output_type": "execute_result",
          "data": {
            "text/plain": [
              "<matplotlib.image.AxesImage at 0x7f31d1793240>"
            ]
          },
          "metadata": {
            "tags": []
          },
          "execution_count": 34
        },
        {
          "output_type": "display_data",
          "data": {
            "image/png": "[encoded data removed]",
            "text/plain": [
              "<Figure size 432x288 with 1 Axes>"
            ]
          },
          "metadata": {
            "tags": [],
            "needs_background": "light"
          }
        }
      ]
    },
    {
      "cell_type": "code",
      "metadata": {
        "colab": {
          "base_uri": "https://localhost:8080/"
        },
        "id": "I2GPRwZ_y5gi",
        "outputId": "2cb8530f-a988-4a75-d1bc-c3955387fb3c"
      },
      "source": [
        "test_image =image.img_to_array(test_image1) \n",
        "test_image =np.expand_dims(test_image, axis =0) \n",
        "result = model.predict(test_image) \n",
        "print(result)\n",
        "if result[0][0]==1: \n",
        "    print(\"Aeroplane\") \n",
        "elif result[0][1]==1: \n",
        "    print('Automobile') \n",
        "elif result[0][2]==1: \n",
        "    print('Bird') \n",
        "elif result[0][3]==1: \n",
        "    print('Cat') \n",
        "elif result[0][4]==1: \n",
        "    print('Deer') \n",
        "elif result[0][5]==1: \n",
        "    print('Dog') \n",
        "elif result[0][6]==1: \n",
        "    print('Frog') \n",
        "elif result[0][7]==1: \n",
        "    print('Horse') \n",
        "elif result[0][8]==1: \n",
        "    print('Ship') \n",
        "elif result[0][9]==1: \n",
        "    print('Truck') \n",
        "else: \n",
        "    print('Error')"
      ],
      "execution_count": 35,
      "outputs": [
        {
          "output_type": "stream",
          "text": [
            "[[0.0000000e+00 1.0000000e+00 0.0000000e+00 0.0000000e+00 0.0000000e+00\n",
            "  0.0000000e+00 0.0000000e+00 0.0000000e+00 0.0000000e+00 6.0664485e-21]]\n",
            "Automobile\n"
          ],
          "name": "stdout"
        }
      ]
    }
  ]
}